{
 "cells": [
  {
   "cell_type": "markdown",
   "metadata": {},
   "source": [
    "# Pix2Pix: Generando flores realistas\n",
    "\n",
    "Tutorial creación de flores realistas utilizando la técnica de Pix2Pix Alba Reinders Sánchez y Alejandro Valverde Mahou siguiendo el tutorial de  [Dot CSV](https://www.youtube.com/watch?v=YsrMGcgfETY&list=PL-Ogd76BhmcCO4VeOlIH93BMT5A_kKAXp&index=6&t=4674s)"
   ]
  }
 ],
 "metadata": {
  "kernelspec": {
   "display_name": "Python 3",
   "language": "python",
   "name": "python3"
  },
  "language_info": {
   "codemirror_mode": {
    "name": "ipython",
    "version": 3
   },
   "file_extension": ".py",
   "mimetype": "text/x-python",
   "name": "python",
   "nbconvert_exporter": "python",
   "pygments_lexer": "ipython3",
   "version": "3.7.4"
  }
 },
 "nbformat": 4,
 "nbformat_minor": 4
}
