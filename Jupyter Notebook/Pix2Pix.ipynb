{
 "cells": [
  {
   "cell_type": "markdown",
   "metadata": {},
   "source": [
    "# Pix2Pix: Generando flores realistas\n",
    "\n",
    "Tutorial creación de flores realistas utilizando la técnica de Pix2Pix Alba Reinders Sánchez y Alejandro Valverde Mahou siguiendo el tutorial de  [Dot CSV](https://www.youtube.com/watch?v=YsrMGcgfETY&list=PL-Ogd76BhmcCO4VeOlIH93BMT5A_kKAXp&index=6&t=4674s)"
   ]
  },
  {
   "cell_type": "code",
   "execution_count": 3,
   "metadata": {},
   "outputs": [],
   "source": [
    "# Imports\n",
    "import tensorflow as tf\n",
    "import matplotlib.pyplot as plt\n",
    "import numpy as np\n",
    "\n",
    "import os"
   ]
  },
  {
   "cell_type": "code",
   "execution_count": 7,
   "metadata": {},
   "outputs": [],
   "source": [
    "# Ruta raíz\n",
    "PATH = \"../Materiales\"\n",
    "\n",
    "# Ruta de datos de entrada\n",
    "INPATH = PATH + \"/102blur/jpg\"\n",
    "\n",
    "# Ruta de datos de salida\n",
    "OUTPATH = PATH + \"/102flowers/jpg\"\n",
    "\n",
    "# Ruta de los checkpoints\n",
    "CPPATH = PATH + \"/checkpoints\""
   ]
  },
  {
   "cell_type": "code",
   "execution_count": 10,
   "metadata": {},
   "outputs": [
    {
     "name": "stdout",
     "output_type": "stream",
     "text": [
      "Tamaño del set de datos:  8189\n"
     ]
    }
   ],
   "source": [
    "imgurls = os.listdir(INPATH)\n",
    "print(\"Tamaño del set de datos: \", len(imgurls))"
   ]
  },
  {
   "cell_type": "markdown",
   "metadata": {},
   "source": [
    "Dado que las imágenes están ordenadas de forma lógica, es necesario reorganizarlas aleatoriamente. Además, dado que se trata de un tutorial se usarán tan sólo 2000 imágenes, donde el 80% serán de entrenamiento y el 20% de test."
   ]
  },
  {
   "cell_type": "code",
   "execution_count": 11,
   "metadata": {},
   "outputs": [],
   "source": [
    "n = 2000\n",
    "train_n = round(n * 0.8)"
   ]
  },
  {
   "cell_type": "code",
   "execution_count": 12,
   "metadata": {},
   "outputs": [],
   "source": [
    "randurls = np.copy(imgurls)\n",
    "np.random.shuffle(randurls)"
   ]
  },
  {
   "cell_type": "code",
   "execution_count": 13,
   "metadata": {},
   "outputs": [
    {
     "name": "stdout",
     "output_type": "stream",
     "text": [
      "Tamaño del set de entrenamiento:  1600\n",
      "Tamaño del set de test:  400\n"
     ]
    }
   ],
   "source": [
    "train_urls = randurls[:train_n]\n",
    "test_urls = randurls[train_n:n]\n",
    "\n",
    "print(\"Tamaño del set de entrenamiento: \", len(train_urls))\n",
    "print(\"Tamaño del set de test: \", len(test_urls))"
   ]
  },
  {
   "cell_type": "code",
   "execution_count": null,
   "metadata": {},
   "outputs": [],
   "source": [
    "IMG_WIDTH, IMG_HEIGHT = 256, 256\n",
    "\n",
    "# Funciones auxiliares\n",
    "\n",
    "# Reescalar imágenes\n",
    "def resize(inimg, tgimg, height, width):\n",
    "    inimg = tf.image.resize(inimg, [height, width])\n",
    "    tgimg = tf.image.resize(inimg, [height, width])\n",
    "    \n",
    "    return inimg, tgimg\n",
    "\n",
    "# Normalizar imágenes\n",
    "def normalize(inimg, tgimg):\n",
    "    inimg = (inimg / 127.5) -1\n",
    "    tgimg = (tgimg / 127.5) -1\n",
    "    \n",
    "    return inimg, tgimg\n",
    "\n"
   ]
  }
 ],
 "metadata": {
  "kernelspec": {
   "display_name": "Python 3",
   "language": "python",
   "name": "python3"
  },
  "language_info": {
   "codemirror_mode": {
    "name": "ipython",
    "version": 3
   },
   "file_extension": ".py",
   "mimetype": "text/x-python",
   "name": "python",
   "nbconvert_exporter": "python",
   "pygments_lexer": "ipython3",
   "version": "3.8.2"
  }
 },
 "nbformat": 4,
 "nbformat_minor": 4
}
